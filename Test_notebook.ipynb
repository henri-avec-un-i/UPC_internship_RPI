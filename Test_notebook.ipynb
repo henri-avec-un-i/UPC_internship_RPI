{
 "cells": [
  {
   "cell_type": "code",
   "execution_count": 9,
   "id": "8e0cd374",
   "metadata": {},
   "outputs": [],
   "source": [
    "'''\n",
    "Remember to replace output_pin with the desired GPIO pin number you want to control. Also, make sure you have \n",
    "the necessary permissions to access the GPIO pins (usually requires running the script with sudo or being part \n",
    "of the gpio group).\n",
    "\n",
    "'''\n",
    "\n",
    "\n",
    "\n",
    "import RPi.GPIO as GPIO\n",
    "from time import sleep\n",
    "\n",
    "\n",
    "\n",
    "# Set the GPIO mode to BCM\n",
    "GPIO.setmode(GPIO.BCM)\n",
    "\n",
    "# Define the GPIO pins number\n",
    "alarm_pin = 27\n",
    "system_stop_pin = 22\n",
    "\n",
    "\n",
    "# Set up the GPIO pin as an input with an initial high state\n",
    "GPIO.setup(alarm_pin, GPIO.OUT)\n",
    "GPIO.setup(system_stop_pin, GPIO.OUT)\n",
    "\n",
    "\n",
    "try:\n",
    "    while True:\n",
    "        GPIO.output(alarm_pin, GPIO.HIGH)\n",
    "        sleep(1)\n",
    "        GPIO.output(alarm_pin, GPIO.LOW)\n",
    "        sleep(1)\n",
    "except KeyboardInterrupt:\n",
    "    GPIO.cleanup()\n",
    "    \n",
    "\n"
   ]
  },
  {
   "cell_type": "code",
   "execution_count": null,
   "id": "1e3f95bc",
   "metadata": {},
   "outputs": [],
   "source": []
  }
 ],
 "metadata": {
  "kernelspec": {
   "display_name": "Python 3 (ipykernel)",
   "language": "python",
   "name": "python3"
  },
  "language_info": {
   "codemirror_mode": {
    "name": "ipython",
    "version": 3
   },
   "file_extension": ".py",
   "mimetype": "text/x-python",
   "name": "python",
   "nbconvert_exporter": "python",
   "pygments_lexer": "ipython3",
   "version": "3.9.2"
  }
 },
 "nbformat": 4,
 "nbformat_minor": 5
}
