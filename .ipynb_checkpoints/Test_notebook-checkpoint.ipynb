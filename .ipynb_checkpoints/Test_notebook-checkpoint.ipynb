{
 "cells": [
  {
   "cell_type": "code",
   "execution_count": 5,
   "id": "8e0cd374",
   "metadata": {},
   "outputs": [
    {
     "name": "stdout",
     "output_type": "stream",
     "text": [
      "Exiting...\n"
     ]
    },
    {
     "name": "stderr",
     "output_type": "stream",
     "text": [
      "/tmp/ipykernel_2927/1175038938.py:32: RuntimeWarning: No channels have been set up yet - nothing to clean up!  Try cleaning up at the end of your program instead!\n",
      "  GPIO.cleanup()\n"
     ]
    }
   ],
   "source": [
    "import RPi.GPIO as GPIO\n",
    "from time import sleep\n",
    "\n",
    "\n",
    "# Set up GPIO mode\n",
    "GPIO.setmode(GPIO.BCM)\n",
    "\n",
    "# Set GPIO pin as input\n",
    "pin_number = 17\n",
    "GPIO.setup(pin_number, GPIO.IN, pull_up_down=GPIO.PUD_DOWN)\n",
    "\n",
    "press_count = 0\n",
    "\n",
    "try:\n",
    "    while True:\n",
    "        # Read the state of the GPIO pin\n",
    "        pin_state = GPIO.input(pin_number)\n",
    "        \n",
    "        if pin_state:\n",
    "            press_count += 1\n",
    "        # Print the press count\n",
    "        print(press_count, end='\\r')\n",
    "        \n",
    "        sleep(0.001)\n",
    "\n",
    "except KeyboardInterrupt:\n",
    "    print(\"Exiting...\")\n",
    "    GPIO.cleanup()\n",
    "\n",
    "\n",
    "# Clean up GPIO settings\n",
    "GPIO.cleanup()\n",
    "\n",
    "\n",
    "\n"
   ]
  },
  {
   "cell_type": "code",
   "execution_count": 13,
   "id": "1e3f95bc",
   "metadata": {},
   "outputs": [
    {
     "name": "stdout",
     "output_type": "stream",
     "text": [
      "Waiting for trigger input...\n"
     ]
    },
    {
     "ename": "UnboundLocalError",
     "evalue": "local variable 'press_count' referenced before assignment",
     "output_type": "error",
     "traceback": [
      "\u001b[0;31m---------------------------------------------------------------------------\u001b[0m",
      "\u001b[0;31mUnboundLocalError\u001b[0m                         Traceback (most recent call last)",
      "Cell \u001b[0;32mIn[6], line 24\u001b[0m, in \u001b[0;36mtrigger_callback\u001b[0;34m(channel)\u001b[0m\n\u001b[1;32m     17\u001b[0m \u001b[38;5;28;01mdef\u001b[39;00m \u001b[38;5;21mtrigger_callback\u001b[39m(channel):\n\u001b[1;32m     18\u001b[0m     \u001b[38;5;124;03m\"\"\"\u001b[39;00m\n\u001b[1;32m     19\u001b[0m \u001b[38;5;124;03m    Callback function to be executed when the trigger input is detected.\u001b[39;00m\n\u001b[1;32m     20\u001b[0m \n\u001b[1;32m     21\u001b[0m \u001b[38;5;124;03m    Args:\u001b[39;00m\n\u001b[1;32m     22\u001b[0m \u001b[38;5;124;03m        channel (int): The GPIO channel number that triggered the callback.\u001b[39;00m\n\u001b[1;32m     23\u001b[0m \u001b[38;5;124;03m    \"\"\"\u001b[39;00m\n\u001b[0;32m---> 24\u001b[0m     press_count \u001b[38;5;241m+\u001b[39m\u001b[38;5;241m=\u001b[39m \u001b[38;5;241m1\u001b[39m\n\u001b[1;32m     25\u001b[0m     \u001b[38;5;28mprint\u001b[39m(press_count, end\u001b[38;5;241m=\u001b[39m\u001b[38;5;124m'\u001b[39m\u001b[38;5;130;01m\\r\u001b[39;00m\u001b[38;5;124m'\u001b[39m)\n",
      "\u001b[0;31mUnboundLocalError\u001b[0m: local variable 'press_count' referenced before assignment"
     ]
    },
    {
     "name": "stdout",
     "output_type": "stream",
     "text": [
      "0\n",
      "Exiting...\n"
     ]
    }
   ],
   "source": [
    "import RPi.GPIO as GPIO\n",
    "\n",
    "\n",
    "# Set the GPIO mode to BCM\n",
    "GPIO.setmode(GPIO.BCM)\n",
    "\n",
    "# Define the GPIO pin number\n",
    "trigger_pin = 17\n",
    "\n",
    "\n",
    "# Set up the GPIO pin as an input with an initial high state\n",
    "GPIO.setup(trigger_pin, GPIO.IN, pull_up_down=GPIO.PUD_DOWN)\n",
    "\n",
    "\n",
    "\n",
    "\n",
    "def trigger_callback(channel):\n",
    "    pin_state = GPIO.input(trigger_pin)\n",
    "    print(pin_state)\n",
    "\n",
    "\n",
    "# Add the event detection for the falling edge of the trigger input\n",
    "GPIO.add_event_detect(trigger_pin, GPIO.RISING, callback=trigger_callback)\n",
    "\n",
    "\n",
    "try:\n",
    "    print(\"Waiting for trigger input...\")\n",
    "    while True:\n",
    "        pass\n",
    "        \n",
    "except KeyboardInterrupt:\n",
    "    print(\"Exiting...\")\n",
    "    GPIO.cleanup()\n"
   ]
  },
  {
   "cell_type": "code",
   "execution_count": null,
   "id": "af6a3c09",
   "metadata": {},
   "outputs": [],
   "source": []
  }
 ],
 "metadata": {
  "kernelspec": {
   "display_name": "Python 3 (ipykernel)",
   "language": "python",
   "name": "python3"
  },
  "language_info": {
   "codemirror_mode": {
    "name": "ipython",
    "version": 3
   },
   "file_extension": ".py",
   "mimetype": "text/x-python",
   "name": "python",
   "nbconvert_exporter": "python",
   "pygments_lexer": "ipython3",
   "version": "3.9.2"
  }
 },
 "nbformat": 4,
 "nbformat_minor": 5
}
