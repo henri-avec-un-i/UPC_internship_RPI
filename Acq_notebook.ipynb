{
 "cells": [
  {
   "cell_type": "markdown",
   "id": "ccb7e93f",
   "metadata": {},
   "source": [
    "# Temperature and pressure acquisition"
   ]
  },
  {
   "cell_type": "markdown",
   "id": "1f46b8b3",
   "metadata": {},
   "source": [
    "## Acquisition functions"
   ]
  },
  {
   "cell_type": "code",
   "execution_count": 27,
   "id": "2d6d3f88",
   "metadata": {},
   "outputs": [],
   "source": [
    "from __future__ import print_function\n",
    "import csv\n",
    "from time import sleep\n",
    "from sys import stdout\n",
    "import numpy as np\n",
    "from datetime import datetime\n",
    "import matplotlib.pyplot as plt\n",
    "\n",
    "from daqhats import mcc128, OptionFlags, mcc134, HatIDs, HatError, TcTypes, AnalogInputMode, AnalogInputRange\n",
    "from daqhats_utils import select_hat_device, tc_type_to_string, \\\n",
    "enum_mask_to_string, input_mode_to_string, input_range_to_string #This needs to be in the same folders as this script\n",
    "\n",
    "\n",
    "\n",
    "def volt_to_bar(volt_value, slope=50, offset=0):\n",
    "    \"\"\"\n",
    "    Converts a voltage value to a bar value using linear conversion.\n",
    "\n",
    "    Args:\n",
    "        volt_value (float): The voltage value to convert.\n",
    "        slope (float, optional): The slope coefficient for the linear conversion. Defaults to 50.\n",
    "        offset (float, optional): The offset coefficient for the linear conversion. Defaults to 0.\n",
    "\n",
    "    Returns:\n",
    "        float: The bar value converted from the voltage value.\n",
    "    \"\"\"\n",
    "    # Apply linear conversion formula: bar_value = volt_value * slope + offset\n",
    "    bar_value = volt_value * slope + offset\n",
    "\n",
    "    return bar_value\n",
    "\n",
    "\n",
    "\n",
    "def T_P_acq_csv(channels_134=(0, 1), channels_128=(0, 1), acq_frequency=1, N_measures=10, terminal_output=True,\n",
    "                data_filename=\"data.csv\"):\n",
    "    \"\"\"\n",
    "    Acquires Pressure and Temperature data before and after microchip and writes it to a CSV file.\n",
    "\n",
    "    Args:\n",
    "        channels_134 (tuple, optional): Sensors channels on MC134. Defaults to (0, 1).\n",
    "        channels_128 (tuple, optional): Sensors channels on MC128. Defaults to (0, 1).\n",
    "        acq_frequency (int, optional): Acquisition frequency in Hz. Defaults to 1.\n",
    "        N_measures (int, optional): Number of measures. Defaults to 10.\n",
    "        terminal_output (bool, optional): Whether to display terminal output. Defaults to True.\n",
    "        data_filename (str, optional): Name of the data CSV file. Defaults to \"data.csv\".\n",
    "    \"\"\"\n",
    "    import datetime\n",
    "\n",
    "    try:\n",
    "        # Initialisation of MC128\n",
    "        address = select_hat_device(HatIDs.MCC_128)\n",
    "        hat_128 = mcc128(address)\n",
    "        input_mode = AnalogInputMode.SE\n",
    "        input_range = AnalogInputRange.BIP_5V\n",
    "        hat_128.a_in_mode_write(input_mode)\n",
    "        hat_128.a_in_range_write(input_range)\n",
    "\n",
    "        # Initialisation of MC134\n",
    "        address_134 = select_hat_device(HatIDs.MCC_134)\n",
    "        hat_134 = mcc134(address_134)\n",
    "        tc_type = TcTypes.TYPE_K\n",
    "\n",
    "        # Initialisation of P and T data arrays\n",
    "        T_array = np.zeros((N_measures, len(channels_134)))\n",
    "        P_array = np.zeros((N_measures, len(channels_128)))\n",
    "\n",
    "        current_datetime = datetime.datetime.now()\n",
    "        formatted_datetime = current_datetime.strftime(\"%Y-%m-%d %H:%M:%S\")\n",
    "\n",
    "        delay_between_reads = 1 / acq_frequency\n",
    "\n",
    "        with open(data_filename, mode=\"w\", newline=\"\") as file:\n",
    "            writer = csv.writer(file)\n",
    "            writer.writerow([\"Date and time\", formatted_datetime, \"Number of measures: \", N_measures,\n",
    "                             \"Acquisition frequency: \", acq_frequency, \"Hz\"])\n",
    "            writer.writerow([\"N_measure\", \"Pressure 1\", \"Temperature 1\", \"Pressure 2\", \"Temperature 2\"])\n",
    "\n",
    "            if terminal_output:\n",
    "                print('\\nAcquiring data ... Press Ctrl-C to abort')\n",
    "                print('\\nNumber of measures:', N_measures, 'Acquisition frequency:', acq_frequency, 'Hz')\n",
    "                print('\\nDate and time:', formatted_datetime)\n",
    "                print('\\n  Sample', end='')\n",
    "                for channel in channels_128:\n",
    "                    print('     Channel Temperature', channel, end='')\n",
    "                for channel in channels_134:\n",
    "                    print('     Channel Pressure', channel, end='')\n",
    "                print('')\n",
    "\n",
    "            samples_per_channel = 0\n",
    "\n",
    "            for i in range(N_measures):\n",
    "                samples_per_channel += 1\n",
    "                if terminal_output:\n",
    "                    print('\\r{:8d}'.format(samples_per_channel), end='')\n",
    "\n",
    "                for channel in channels_134:\n",
    "                    hat_134.tc_type_write(channel, tc_type)\n",
    "                    value_T = hat_134.t_in_read(channel)\n",
    "                    T_array[i, channel] = value_T\n",
    "\n",
    "                    if terminal_output:\n",
    "                        if value_T == mcc134.OPEN_TC_VALUE:\n",
    "                            print('     Open     ', end='')\n",
    "                        elif value_T == mcc134.OVERRANGE_TC_VALUE:\n",
    "                            print('     OverRange', end='')\n",
    "                        elif value_T == mcc134.COMMON_MODE_TC_VALUE:\n",
    "                            print('   Common Mode', end='')\n",
    "                        else:\n",
    "                            print('{:12.2f} C'.format(value_T), end='')\n",
    "\n",
    "                for channel in channels_128:\n",
    "                    value_P_volt = hat_128.a_in_read(channel)\n",
    "                    value_P_bar = volt_to_bar(value_P_volt)\n",
    "                    P_array[i, channel] = value_P_bar\n",
    "\n",
    "                    if terminal_output:\n",
    "                        print('{:12.2f} bar'.format(value_P_bar), end='')\n",
    "\n",
    "                stdout.flush()\n",
    "                sleep(delay_between_reads)\n",
    "\n",
    "                row = [i, P_array[i, 0], T_array[i, 0], P_array[i, 1], T_array[i, 1]]\n",
    "                writer.writerow(row)\n",
    "\n",
    "    except (HatError, ValueError) as error:\n",
    "        print('\\n', error)\n",
    "        \n",
    "\n",
    "\n",
    "def T_P_disp(channels_134=(0, 1), channels_128=(0, 1), delay_between_reads=0.1):\n",
    "    \"\"\"\n",
    "    Displays real-time Temperature and Pressure data from sensors on MC134 and MC128.\n",
    "\n",
    "    Args:\n",
    "        channels_134 (tuple, optional): Sensors channels on MC134. Defaults to (0, 1).\n",
    "        channels_128 (tuple, optional): Sensors channels on MC128. Defaults to (0, 1).\n",
    "        delay_between_reads (float, optional): Delay between sensor readings in seconds. Defaults to 0.1.\n",
    "    \"\"\"\n",
    "    import datetime\n",
    "\n",
    "    try:\n",
    "        # Initialisation of MC128\n",
    "        address = select_hat_device(HatIDs.MCC_128)\n",
    "        hat_128 = mcc128(address)\n",
    "        input_mode = AnalogInputMode.SE\n",
    "        input_range = AnalogInputRange.BIP_5V\n",
    "        hat_128.a_in_mode_write(input_mode)\n",
    "        hat_128.a_in_range_write(input_range)\n",
    "\n",
    "        # Initialisation of MC134\n",
    "        address_134 = select_hat_device(HatIDs.MCC_134)\n",
    "        hat_134 = mcc134(address_134)\n",
    "        tc_type = TcTypes.TYPE_K\n",
    "\n",
    "        current_datetime = datetime.datetime.now()\n",
    "        formatted_datetime = current_datetime.strftime(\"%Y-%m-%d %H:%M:%S\")\n",
    "\n",
    "        for channel in channels_134:\n",
    "            hat_134.tc_type_write(channel, tc_type)\n",
    "\n",
    "        # Display the header row for the data table.\n",
    "        for channel in channels_128:\n",
    "            print('     Channel Temperature', channel, end='')\n",
    "        for channel in channels_134:\n",
    "            print('     Channel Pressure', channel, end='')\n",
    "        print('')\n",
    "\n",
    "        while True:\n",
    "            for channel in channels_134:\n",
    "                value_T = hat_134.t_in_read(channel)\n",
    "\n",
    "                if value_T == mcc134.OPEN_TC_VALUE:\n",
    "                    print('     Open     ', end='')\n",
    "                elif value_T == mcc134.OVERRANGE_TC_VALUE:\n",
    "                    print('     OverRange', end='')\n",
    "                elif value_T == mcc134.COMMON_MODE_TC_VALUE:\n",
    "                    print('   Common Mode', end='')\n",
    "                else:\n",
    "                    print('{:12.2f} C'.format(value_T), end='')\n",
    "\n",
    "            for channel in channels_128:\n",
    "                value_P_volt = hat_128.a_in_read(channel)\n",
    "                value_P_bar = volt_to_bar(value_P_volt)\n",
    "                \n",
    "                #This is here in order to print continuously T and P values over the same line\n",
    "                if channel == channels_128[-1]:\n",
    "                    print('{:12.2f} bar'.format(value_P_bar), end='\\r')\n",
    "                else:\n",
    "                    print('{:12.2f} bar'.format(value_P_bar), end='')\n",
    "\n",
    "            stdout.flush()\n",
    "            sleep(delay_between_reads)\n",
    "\n",
    "    except (HatError, ValueError) as error:\n",
    "        print('\\n', error)\n",
    "        \n",
    "        \n",
    "        \n",
    "\n",
    "        \n",
    "def csv_data_reader(file_name = \"data.csv\", terminal_output = False):\n",
    "    # Specify the path to the CSV file\n",
    "    csv_file = file_name\n",
    "\n",
    "    # Initialize empty arrays for acquisition parameters, headers, and data\n",
    "    acquisition_params = []\n",
    "    column_headers = []\n",
    "    data = []\n",
    "\n",
    "    # Read the CSV file\n",
    "    with open(csv_file, \"r\") as file:\n",
    "        reader = csv.reader(file)\n",
    "\n",
    "        # Extract the acquisition parameters from the first line\n",
    "        acquisition_params = next(reader)\n",
    "\n",
    "        # Extract the headers from the second line\n",
    "        column_headers = next(reader)\n",
    "\n",
    "        # Read the rest of the lines as data\n",
    "        data = list(reader)\n",
    "    \n",
    "    if terminal_output:\n",
    "        # Print the arrays if terminal_output == True\n",
    "        print(\"Acquisition Parameters:\", acquisition_params)\n",
    "        print(\"Column Headers:\", column_headers)\n",
    "        print(\"Data:\")\n",
    "        for row in data:\n",
    "            print(row)\n",
    "\n",
    "    return acquisition_params, column_headers, np.array(data)\n"
   ]
  },
  {
   "cell_type": "markdown",
   "id": "4a4c9e99",
   "metadata": {},
   "source": [
    "## Trigger acquisition"
   ]
  },
  {
   "cell_type": "code",
   "execution_count": 5,
   "id": "19d80bfb",
   "metadata": {},
   "outputs": [
    {
     "name": "stdout",
     "output_type": "stream",
     "text": [
      "Waiting for trigger input...\n",
      "     Channel Temperature 0     Channel Temperature 1     Channel Pressure 0     Channel Pressure 1\n",
      "Acquiring temperature and pressure data in csv...  -0.04 bar\n",
      "Data saved in csv!   23.42 C       -5.41 bar       -0.04 bar\n",
      "Acquiring temperature and pressure data in csv...\n",
      "Data saved in csv!   23.44 C       -5.68 bar       -0.03 bar\n",
      "Acquiring temperature and pressure data in csv...  -0.04 bar\n",
      "Data saved in csv!   23.50 C       -4.94 bar       -0.03 bar\n",
      "Acquiring temperature and pressure data in csv...\n",
      "Data saved in csv!   23.63 C       -5.15 bar       -0.02 bar\n",
      "Exiting...44 C       23.16 C       -5.41 bar       -0.03 bar\n"
     ]
    }
   ],
   "source": [
    "import RPi.GPIO as GPIO\n",
    "\n",
    "# Set the GPIO mode to BCM\n",
    "GPIO.setmode(GPIO.BCM)\n",
    "\n",
    "# Define the GPIO pin number\n",
    "trigger_pin = 17\n",
    "\n",
    "# Set up the GPIO pin as an input with an initial high state\n",
    "GPIO.setup(trigger_pin, GPIO.IN, pull_up_down=GPIO.PUD_UP)\n",
    "\n",
    "def trigger_callback(channel):\n",
    "    \"\"\"\n",
    "    Callback function to be executed when the trigger input is detected.\n",
    "\n",
    "    Args:\n",
    "        channel (int): The GPIO channel number that triggered the callback.\n",
    "    \"\"\"\n",
    "    print(\"Acquiring temperature and pressure data in csv...\")\n",
    "    T_P_acq_csv(channels_134=(0, 1), channels_128=(0, 1), acq_frequency=10, N_measures=50, terminal_output=False, data_filename=\"data.csv\")\n",
    "    print(\"Data saved in csv!\")\n",
    "\n",
    "# Add the event detection for the falling edge of the trigger input\n",
    "GPIO.add_event_detect(trigger_pin, GPIO.FALLING, callback=trigger_callback)\n",
    "\n",
    "try:\n",
    "    print(\"Waiting for trigger input...\")\n",
    "    while True:\n",
    "        T_P_disp(channels_134=(0, 1), channels_128=(0, 1), delay_between_reads=1)\n",
    "\n",
    "except KeyboardInterrupt:\n",
    "    print(\"Exiting...\")\n",
    "    GPIO.cleanup()\n",
    "    \n"
   ]
  },
  {
   "cell_type": "markdown",
   "id": "778a2802",
   "metadata": {},
   "source": [
    "## Manual acquisition"
   ]
  },
  {
   "cell_type": "code",
   "execution_count": 39,
   "id": "2de6dbc4",
   "metadata": {},
   "outputs": [
    {
     "name": "stdout",
     "output_type": "stream",
     "text": [
      "\n",
      "Acquiring data ... Press Ctrl-C to abort\n",
      "\n",
      "Number of measures: 200 Acquisition frequency: 100 Hz\n",
      "\n",
      "Date and time: 2023-05-19 16:04:31\n",
      "\n",
      "  Sample     Channel Temperature 0     Channel Temperature 1     Channel Pressure 0     Channel Pressure 1\n",
      "     200       23.27 C       23.09 C       -6.15 bar       -0.04 bar       -6.04 bar       -0.04 bar       -0.04 bar       23.16 C       -5.93 bar       -0.03 bar       23.16 C       -6.17 bar       -0.04 bar       23.16 C       -5.59 bar       -0.04 bar       -6.21 bar       -0.04 bar       23.35 C       23.16 C       -5.95 bar       -0.04 bar       23.35 C       23.16 C       -5.86 bar       -0.04 bar       23.16 C       -6.24 bar       -0.04 bar       23.16 C       -6.21 bar       -0.04 bar       23.31 C       23.12 C       -6.18 bar       -0.03 bar       23.12 C       -5.67 bar       -0.04 bar       23.12 C       -6.14 bar       -0.04 bar       -6.22 bar       -0.04 bar       23.12 C       -6.11 bar       -0.03 bar       23.31 C       23.12 C       -6.09 bar       -0.04 bar       23.12 C       -5.87 bar       -0.03 bar       23.27 C       23.09 C       -5.66 bar       -0.04 bar       23.27 C       23.09 C       -6.05 bar       -0.02 bar       -5.58 bar       -0.03 bar       23.09 C       -5.53 bar       -0.04 bar       -5.94 bar       -0.04 bar       23.09 C       -5.85 bar       -0.04 bar       23.09 C       -5.96 bar       -0.04 bar       23.09 C       -5.71 bar       -0.03 bar"
     ]
    }
   ],
   "source": [
    "T_P_acq_csv(channels_134 = (0, 1), channels_128 = (0, 1), acq_frequency = 100, N_measures = 200, terminal_output = True, data_filename = \"data.csv\")\n"
   ]
  },
  {
   "cell_type": "code",
   "execution_count": 40,
   "id": "57b0c19e",
   "metadata": {},
   "outputs": [],
   "source": [
    "acquisition_params, column_headers, data = csv_data_reader(file_name = \"data.csv\", terminal_output = False)"
   ]
  },
  {
   "cell_type": "code",
   "execution_count": 37,
   "id": "e4dd66ec",
   "metadata": {},
   "outputs": [
    {
     "data": {
      "text/plain": [
       "['N_measure', 'Pressure 1', 'Temperature 1', 'Pressure 2', 'Temperature 2']"
      ]
     },
     "execution_count": 37,
     "metadata": {},
     "output_type": "execute_result"
    }
   ],
   "source": [
    "column_headers"
   ]
  },
  {
   "cell_type": "markdown",
   "id": "155f4de7",
   "metadata": {},
   "source": [
    "## Plotting the data"
   ]
  },
  {
   "cell_type": "code",
   "execution_count": 41,
   "id": "22f71ffe",
   "metadata": {},
   "outputs": [
    {
     "data": {
      "text/plain": [
       "[<matplotlib.lines.Line2D at 0x7f44576f10>]"
      ]
     },
     "execution_count": 41,
     "metadata": {},
     "output_type": "execute_result"
    },
    {
     "data": {
      "image/png": "[encoded data removed]",
      "text/plain": [
       "<Figure size 640x480 with 1 Axes>"
      ]
     },
     "metadata": {},
     "output_type": "display_data"
    }
   ],
   "source": [
    "plt.plot(data[:,2])"
   ]
  },
  {
   "cell_type": "code",
   "execution_count": 42,
   "id": "240c9350",
   "metadata": {},
   "outputs": [
    {
     "data": {
      "text/plain": [
       "'23.382527134243926'"
      ]
     },
     "execution_count": 42,
     "metadata": {},
     "output_type": "execute_result"
    }
   ],
   "source": [
    "data[0,2]"
   ]
  }
 ],
 "metadata": {
  "kernelspec": {
   "display_name": "Python 3 (ipykernel)",
   "language": "python",
   "name": "python3"
  },
  "language_info": {
   "codemirror_mode": {
    "name": "ipython",
    "version": 3
   },
   "file_extension": ".py",
   "mimetype": "text/x-python",
   "name": "python",
   "nbconvert_exporter": "python",
   "pygments_lexer": "ipython3",
   "version": "3.9.2"
  }
 },
 "nbformat": 4,
 "nbformat_minor": 5
}
