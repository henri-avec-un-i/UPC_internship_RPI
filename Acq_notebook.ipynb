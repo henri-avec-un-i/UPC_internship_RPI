{
 "cells": [
  {
   "cell_type": "markdown",
   "id": "ccb7e93f",
   "metadata": {},
   "source": [
    "Calibration attempt"
   ]
  },
  {
   "cell_type": "code",
   "execution_count": null,
   "id": "3cf2a99a",
   "metadata": {},
   "outputs": [],
   "source": [
    "#Get temperature data from MC134\n",
    "from __future__ import print_function\n",
    "from time import sleep\n",
    "from sys import stdout\n",
    "from daqhats import mcc134, HatIDs, HatError, TcTypes\n",
    "from daqhats_utils import select_hat_device, tc_type_to_string\n",
    "\n",
    "\n",
    "import numpy as np\n",
    "import matplotlib.pyplot as plt\n",
    "\n",
    "\n",
    "\n",
    "tc_type = TcTypes.TYPE_K   # change this to the desired thermocouple type\n",
    "delay_between_reads = 1  # #To specify, Seconds \n",
    "N_measures = 5 #To specify\n",
    "channels = (0, 1) #To specify\n",
    "T_array = np.zeros((N_measures,len(channels))) # List of temperatures for both sensors in Celsius\n",
    "\n",
    "\n",
    "\n",
    "try:\n",
    "    # Get an instance of the selected hat device object.\n",
    "    address = select_hat_device(HatIDs.MCC_134)\n",
    "    hat = mcc134(address)\n",
    "\n",
    "    for channel in channels:\n",
    "        hat.tc_type_write(channel, tc_type)\n",
    "    \n",
    "    for i in range(N_measures):\n",
    "        # Read a single value from each selected channel.\n",
    "        for channel in channels:\n",
    "            value = hat.t_in_read(channel)\n",
    "            T_array[i,channel] = value\n",
    "            #print(value, '', i)\n",
    "            \n",
    "        # Wait the specified interval between reads.\n",
    "        sleep(delay_between_reads)\n",
    "        \n",
    "    #print(T_array)\n",
    "\n",
    "\n",
    "except (HatError, ValueError) as error:\n",
    "    print('\\n', error)\n",
    "\n"
   ]
  },
  {
   "cell_type": "code",
   "execution_count": null,
   "id": "290def96",
   "metadata": {},
   "outputs": [],
   "source": [
    "T_array"
   ]
  },
  {
   "cell_type": "code",
   "execution_count": 12,
   "id": "118a90c4",
   "metadata": {},
   "outputs": [
    {
     "data": {
      "image/png": "[encoded data removed]",
      "text/plain": [
       "<Figure size 640x480 with 1 Axes>"
      ]
     },
     "metadata": {},
     "output_type": "display_data"
    }
   ],
   "source": [
    "import matplotlib.pyplot as plt\n",
    "plt.plot(T_array)\n",
    "plt.show()"
   ]
  },
  {
   "cell_type": "markdown",
   "id": "f34ea220",
   "metadata": {},
   "source": [
    "Trigger input test"
   ]
  },
  {
   "cell_type": "code",
   "execution_count": null,
   "id": "c1aea1a1",
   "metadata": {},
   "outputs": [
    {
     "name": "stdout",
     "output_type": "stream",
     "text": [
      "Waiting for trigger input...\n"
     ]
    }
   ],
   "source": [
    "import RPi.GPIO as GPIO\n",
    "\n",
    "# Set the GPIO mode to BCM\n",
    "GPIO.setmode(GPIO.BCM)\n",
    "\n",
    "# Define the GPIO pin number\n",
    "trigger_pin = 17\n",
    "\n",
    "# Set up the GPIO pin as an input with an initial high state\n",
    "GPIO.setup(trigger_pin, GPIO.IN, pull_up_down=GPIO.PUD_UP)\n",
    "\n",
    "# Define the function to run when the trigger input is detected\n",
    "def trigger_callback(channel):\n",
    "    print(\"Trigger input detected!\")\n",
    "\n",
    "# Add the event detection for the falling edge of the trigger input\n",
    "GPIO.add_event_detect(trigger_pin, GPIO.FALLING, callback=trigger_callback)\n",
    "\n",
    "try:\n",
    "    print(\"Waiting for trigger input...\")\n",
    "    while True:\n",
    "        pass\n",
    "\n",
    "except KeyboardInterrupt:\n",
    "    print(\"Exiting...\")\n",
    "    GPIO.cleanup()\n",
    "\n"
   ]
  },
  {
   "cell_type": "code",
   "execution_count": null,
   "id": "fff276ab",
   "metadata": {},
   "outputs": [],
   "source": []
  }
 ],
 "metadata": {
  "kernelspec": {
   "display_name": "Python 3 (ipykernel)",
   "language": "python",
   "name": "python3"
  },
  "language_info": {
   "codemirror_mode": {
    "name": "ipython",
    "version": 3
   },
   "file_extension": ".py",
   "mimetype": "text/x-python",
   "name": "python",
   "nbconvert_exporter": "python",
   "pygments_lexer": "ipython3",
   "version": "3.9.2"
  }
 },
 "nbformat": 4,
 "nbformat_minor": 5
}
